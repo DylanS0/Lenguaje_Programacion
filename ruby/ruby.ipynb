{
 "cells": [
  {
   "cell_type": "markdown",
   "id": "23b0dc65",
   "metadata": {},
   "source": [
    "#  ***DOCUMENTACIÓN DE RUBY***\n",
    "### Ruby es un lenguaje de programación dinámico, de código abierto, con enfoque en la simplicidad y la productividad. Fue creado por Yukihiro \"Matz\" Matsumoto, quien buscaba un lenguaje que hiciera la programación divertida. Ruby es casi puramente orientado a objetos, lo que significa que todo es un objeto, incluso valores primitivos como números.\n",
    "## ***Dylan Sosa***\n",
    "## ***C.I. 30640501***\n",
    "-------------------------------------"
   ]
  },
  {
   "cell_type": "markdown",
   "id": "57299485",
   "metadata": {},
   "source": [
    "# **1. Fundamentos y sintaxis basica**\n",
    "## **Sintaxis y estructura**\n",
    "Ruby valora la legibilidad y a menudo elimina la necesidad de delimitadores de sentencia como el punto y coma (;), aunque son opcionales. El código se agrupa en bloques que inician con palabras clave como def, if, o class y terminan con la palabra clave end. La función principal para la salida de texto es puts (put string), que añade automáticamente un salto de línea, o print, que no lo hace."
   ]
  },
  {
   "cell_type": "code",
   "execution_count": null,
   "id": "65913267",
   "metadata": {
    "vscode": {
     "languageId": "plaintext"
    }
   },
   "outputs": [],
   "source": [
    "#uso de puts para imprimir\n",
    "puts \"Hola, Ruby!\"\n",
    "\n",
    "#fin de bloque (ejemplo de un metodo)\n",
    "def saludar\n",
    "  puts \"El codigo es limpio\"\n",
    "end\n",
    "\n",
    "saludar"
   ]
  },
  {
   "cell_type": "markdown",
   "id": "df1de75b",
   "metadata": {},
   "source": [
    "# **Variables y tipos de datos**\n",
    "Ruby es un lenguaje de tipado dinámico. Las variables se crean simplemente asignándoles un valor, y no requieren una declaración de tipo explícita. Convencionalmente, los nombres de variables deben comenzar con una letra minúscula o un guion bajo.\n",
    "\n",
    "- **Tipos Numéricos:** Incluyen Integer (enteros) y Float (decimales). Ruby maneja números enteros grandes automáticamente sin desbordamiento.\n",
    "\n",
    "-  **Strings:** Cadenas de texto. Las comillas dobles (\") permiten la interpolación de variables y código mediante la sintaxis #{} , mientras que las comillas simples (') no.\n",
    "\n",
    "- **Booleans:** Los únicos valores falsos en Ruby son false y nil (el valor de \"nada\" o nulo). Cualquier otra cosa (incluyendo 0, cadenas vacías, o arrays vacíos) es considerada true."
   ]
  },
  {
   "cell_type": "code",
   "execution_count": null,
   "id": "224f0ea5",
   "metadata": {
    "vscode": {
     "languageId": "plaintext"
    }
   },
   "outputs": [],
   "source": [
    "#tipos de datos\n",
    "edad = 35         #integer\n",
    "precio = 19.99    #float\n",
    "\n",
    "#interpolacion de string\n",
    "lenguaje = \"Ruby\"\n",
    "puts \"Aprendiendo #{lenguaje} con exito\""
   ]
  },
  {
   "cell_type": "markdown",
   "id": "5463fe2b",
   "metadata": {},
   "source": [
    "# **2. Colecciones y estructuras de control**\n",
    "## **Arreglos (arrays)**\n",
    "Los Arrays son colecciones ordenadas e indexadas de objetos. Al igual que en muchos lenguajes, los índices comienzan en cero. Ruby permite indexación negativa, donde -1 se refiere al último elemento del array, -2 al penúltimo, y así sucesivamente."
   ]
  },
  {
   "cell_type": "code",
   "execution_count": null,
   "id": "4f2f3558",
   "metadata": {
    "vscode": {
     "languageId": "plaintext"
    }
   },
   "outputs": [],
   "source": [
    "frutas = [\"manzana\", \"banana\", \"kiwi\"]\n",
    "\n",
    "#acceso por indice\n",
    "puts frutas[1] # Salida: banana\n",
    "\n",
    "#acceso al ultimo elemento\n",
    "puts frutas[-1] # Salida: kiwi"
   ]
  },
  {
   "cell_type": "markdown",
   "id": "cec71720",
   "metadata": {},
   "source": [
    "## **Hashes**\n",
    "Los Hashes (similares a diccionarios en Python u objetos en JavaScript) son colecciones de pares clave-valor no ordenadas. Las claves pueden ser casi cualquier objeto, pero los símbolos (que comienzan con :) son las claves más comunes, especialmente en el desarrollo web con Rails."
   ]
  },
  {
   "cell_type": "code",
   "execution_count": null,
   "id": "d52276d5",
   "metadata": {
    "vscode": {
     "languageId": "plaintext"
    }
   },
   "outputs": [],
   "source": [
    "#hash con sintaxis de simbolo (moderna)\n",
    "persona = { nombre: \"alice\", edad: 30, ciudad: \"paris\" }\n",
    "\n",
    "#acceso por clave\n",
    "puts persona[:nombre] #salida: alice\n",
    "\n",
    "#añadir un nuevo par\n",
    "persona[:ocupacion] = \"developer\""
   ]
  },
  {
   "cell_type": "markdown",
   "id": "9c1781c0",
   "metadata": {},
   "source": [
    "## **Estructuras condicionales**\n",
    "Ruby utiliza if, elsif y else para el control de flujo. También permite la forma posfix de las condiciones, donde la condición sigue a la instrucción, lo que mejora la legibilidad para sentencias simples."
   ]
  },
  {
   "cell_type": "code",
   "execution_count": null,
   "id": "56700591",
   "metadata": {
    "vscode": {
     "languageId": "plaintext"
    }
   },
   "outputs": [],
   "source": [
    "nota = 85\n",
    "\n",
    "#estructura if/elsif/else\n",
    "if nota >= 90\n",
    "  puts \"excelente\"\n",
    "elsif nota >= 70\n",
    "  puts \"bien\"\n",
    "else\n",
    "  puts \"necesita mejorar\"\n",
    "end #el bloque termina con 'end'\n",
    "\n",
    "#forma posfix (una linea)\n",
    "puts \"Aprobado\" if nota >= 60"
   ]
  },
  {
   "cell_type": "markdown",
   "id": "2052b267",
   "metadata": {},
   "source": [
    "# 3. **Iteración y bloques**\n",
    "## **Bucles**\n",
    "Ruby prefiere el uso de iteradores (iterators) sobre bucles tradicionales como for o while porque estos son más idiomáticos (más \"Ruby-ish\").\n",
    "\n",
    "- **times:** Ejecuta un bloque de código un número específico de veces.\n",
    "\n",
    "- **each:** El iterador más común, utilizado para recorrer cada elemento de un Array o Hash.\n",
    "\n",
    "## **Bloques, procs y lambdas**\n",
    "Los Bloques son la característica más poderosa de Ruby. Son trozos de código anónimos que pueden ser adjuntados a una llamada de método (como una función de callback). Se definen con {} (para una sola línea) o con las palabras clave do ... end (para múltiples líneas)."
   ]
  },
  {
   "cell_type": "code",
   "execution_count": null,
   "id": "40776f19",
   "metadata": {
    "vscode": {
     "languageId": "plaintext"
    }
   },
   "outputs": [],
   "source": [
    "#bucle for idiomatico (usando times con un bloque)\n",
    "5.times do |i|\n",
    "  puts \"contando: #{i + 1}\"\n",
    "end\n",
    "\n",
    "#iteracion con each (bloque con do/end)\n",
    "nombres = [\"ana\", \"bob\"]\n",
    "nombres.each do |nombre|\n",
    "  puts \"hola, #{nombre}\"\n",
    "end"
   ]
  },
  {
   "cell_type": "markdown",
   "id": "f8886d08",
   "metadata": {},
   "source": [
    "# **4. Programacion orientada a objetos (POO)**\n",
    "# **Clases y objetos**\n",
    "Ruby es estrictamente orientado a objetos. Una Clase es la plantilla para crear Objetos. El método especial initialize actúa como el constructor de la clase, ejecutándose automáticamente cuando se crea una nueva instancia (objeto) usando new.\n",
    "\n",
    "# **Atributos y metodos**\n",
    "- **Propiedades (Atributos):** Variables dentro de la clase. Para hacerlas accesibles fuera del objeto, se usan métodos especiales.\n",
    "\n",
    "- **attr_accessor:** Un atajo idiomático que crea automáticamente los métodos getter (para leer el valor) y setter (para escribir el valor) de un atributo.\n",
    "\n",
    "- **Herencia:** Se usa el símbolo < para indicar que una clase hereda de otra (ej. class Perro < Animal)."
   ]
  },
  {
   "cell_type": "code",
   "execution_count": null,
   "id": "6408da6c",
   "metadata": {
    "vscode": {
     "languageId": "plaintext"
    }
   },
   "outputs": [],
   "source": [
    "class Animal\n",
    "  #crea los metodos get y set para :nombre\n",
    "  attr_accessor :nombre \n",
    "\n",
    "  #constructor\n",
    "  def initialize(nombre)\n",
    "    @nombre = nombre  # @nombre es una variable de instancia (atributo)\n",
    "  end\n",
    "\n",
    "  #metodo\n",
    "  def saludar\n",
    "    puts \"hola, soy un animal llamado #{@nombre}.\"\n",
    "  end\n",
    "end\n",
    "\n",
    "#creacion de un objeto\n",
    "mi_gato = Animal.new(\"Felix\")\n",
    "\n",
    "#uso del getter y el metodo\n",
    "puts mi_gato.nombre \n",
    "mi_gato.saludar"
   ]
  },
  {
   "cell_type": "markdown",
   "id": "0f3d57a8",
   "metadata": {},
   "source": [
    "# **5. Ecosistema y Estandares**\n",
    "## **Gemas y bundler**\n",
    "Una Gema es el formato de empaquetamiento de Ruby, que contiene bibliotecas y código reusable. El sistema de gestión de paquetes estándar es RubyGems.\n",
    "\n",
    "Bundler es la herramienta de facto para la gestión de dependencias. Se utiliza para especificar y aislar las versiones de las gemas que un proyecto necesita, asegurando que todos los desarrolladores y entornos utilicen las mismas versiones. Las dependencias se listan en un archivo llamado Gemfile.\n",
    "\n",
    "## **Ruby on Rails**\n",
    "Ruby on Rails (Rails) es el framework web más famoso y poderoso de Ruby. Sigue el patrón de diseño MVC (Modelo-Vista-Controlador) y promueve dos filosofías clave:\n",
    "\n",
    "**Convención sobre Configuración (CoC):** Reduce la necesidad de archivos de configuración al asumir las mejores prácticas.\n",
    "\n",
    "**No te Repitas (DRY - Don't Repeat Yourself):** Fomenta la escritura de código conciso y eficiente.\n",
    "\n",
    "Rails popularizó el uso de Ruby y es la base de sitios web a gran escala como Airbnb, GitHub y Shopify."
   ]
  }
 ],
 "metadata": {
  "language_info": {
   "name": "python"
  }
 },
 "nbformat": 4,
 "nbformat_minor": 5
}
