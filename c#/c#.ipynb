{
 "cells": [
  {
   "cell_type": "markdown",
   "id": "67ef81a0",
   "metadata": {},
   "source": [
    "#  ***DOCUMENTACIÓN DE C#(C-Sharp)***\n",
    "### Esta documentación ofrece una exploración profunda de los conceptos esenciales de C#, un lenguaje fundamental en el ecosistema de .NET, proporcionando definiciones detalladas y ejemplos de código.\n",
    "## ***Dylan Sosa***\n",
    "## ***C.I. 30640501***\n",
    "-------------------------------------"
   ]
  },
  {
   "cell_type": "markdown",
   "id": "006830f2",
   "metadata": {},
   "source": [
    "# 1. **Fundamentos y naturaleza del lenguaje**\n",
    "## **Que es C#**\n",
    "C# (C-Sharp) es un lenguaje de programación moderno, orientado a objetos y con tipado fuerte (Statically Typed), desarrollado por Microsoft como parte de su iniciativa .NET. Combina la productividad de lenguajes como Visual Basic con la potencia y sintaxis de C++. Es el principal lenguaje para desarrollar una vasta gama de aplicaciones, desde servicios web y aplicaciones de escritorio (WPF, WinForms) hasta desarrollo móvil (Xamarin/MAUI) y videojuegos (a través del motor Unity).\n",
    "\n",
    "A diferencia de lenguajes interpretados, el código C# se compila primero a un lenguaje intermedio llamado CIL (Common Intermediate Language), que luego es ejecutado por el CLR (Common Language Runtime), el motor de ejecución de .NET. Esto lo hace potente y eficiente, ya que el CLR se encarga de la gestión de memoria y seguridad."
   ]
  },
  {
   "cell_type": "markdown",
   "id": "359da6ea",
   "metadata": {},
   "source": [
    "## **Estructura y sintaxis basica**\n",
    "El código C# se organiza en clases que residen dentro de espacios de nombres (Namespaces), los cuales sirven para organizar y prevenir conflictos de nombres entre grandes bloques de código. Cada programa C# típicamente inicia la ejecución en un método especial llamado Main, que puede estar contenido en una clase, o, en las versiones modernas de .NET, puede usar Instrucciones de Nivel Superior (Top-Level Statements) para reducir el código repetitivo. Al igual que C++, cada sentencia de código debe terminar con un punto y coma (;), y los bloques de código (como los cuerpos de métodos o bucles) se delimitan con llaves ({}). Los comentarios se utilizan para documentación y pueden ser de línea única (//) o de bloque (/* ... */)."
   ]
  },
  {
   "cell_type": "code",
   "execution_count": null,
   "id": "187f1b5b",
   "metadata": {
    "vscode": {
     "languageId": "plaintext"
    }
   },
   "outputs": [],
   "source": [
    "//usando la sintaxis moderna\n",
    "//el programa se ejecuta directamente desde aqui\n",
    "\n",
    "//uso de System para acceder a la funcionalidad de la consola\n",
    "using System; \n",
    "\n",
    "//imprime un mensaje en la consola\n",
    "Console.WriteLine(\"¡Hola, mundo desde C#! \");\n",
    "\n",
    "//definicion de una variable inmutable\n",
    "const string Lenguaje = \"C-Sharp\";\n",
    "\n",
    "Console.WriteLine($\"El lenguaje es: {Lenguaje}\");"
   ]
  },
  {
   "cell_type": "markdown",
   "id": "6342ee96",
   "metadata": {},
   "source": [
    "# **2. Tipos de datos y variables**\n",
    "## **Tipado fuerte y variables**\n",
    "C# es un lenguaje de tipado fuerte, lo que significa que el tipo de dato de una variable debe ser declarado explícitamente y no puede cambiar durante la vida de la variable. Esta característica previene errores en tiempo de compilación que podrían pasar desapercibidos en lenguajes de tipado débil. Las variables se definen usando el formato [Tipo de Dato] [Nombre] = [Valor];.\n",
    "\n",
    "El tipo de dato define la cantidad de memoria que se asignará y qué operaciones son válidas para esa variable. Para simplificar la escritura, C# ofrece la palabra clave var, que permite al compilador inferir el tipo de la variable a partir del valor asignado, manteniendo la verificación de tipos en tiempo de compilación."
   ]
  },
  {
   "cell_type": "markdown",
   "id": "705e2650",
   "metadata": {},
   "source": [
    "## **Tipos de Valor y Referencia**\n",
    "C# clasifica los tipos de datos en dos categorías fundamentales:\n",
    "\n",
    "- **Tipos de Valor (Value Types):** Almacenan su valor directamente en la memoria apilada (Stack). Esto incluye tipos primitivos como int (entero), float (punto flotante de precisión simple), double (punto flotante de doble precisión), bool (booleano) y char (carácter). Cuando se copia una variable de valor, se copia el valor completo.\n",
    "\n",
    "- **Tipos de Referencia (Reference Types):** Almacenan una referencia (dirección) al valor real, que se encuentra en el montón (Heap). Esto incluye string, class, interface y array. Cuando se copia una variable de referencia, solo se copia la dirección de la memoria, por lo que ambas variables apuntan al mismo objeto."
   ]
  },
  {
   "cell_type": "code",
   "execution_count": null,
   "id": "2d162811",
   "metadata": {
    "vscode": {
     "languageId": "plaintext"
    }
   },
   "outputs": [],
   "source": [
    "//tipo de valor: almacena el valor 10\n",
    "int edad = 10; \n",
    "\n",
    "//tipo de referencia: almacena una referencia al objeto \"C#\"\n",
    "string mensaje = \"C#\"; \n",
    "\n",
    "//var (Inferido): El compilador sabe que es un double\n",
    "var precio = 99.99; \n",
    "\n",
    "//uso de un booleano\n",
    "bool esActivo = true; \n",
    "\n",
    "//los tipos de valor se pueden convertir (casting) explicita o impicitamente\n",
    "double edadEnDoble = edad;"
   ]
  },
  {
   "cell_type": "markdown",
   "id": "9c666839",
   "metadata": {},
   "source": [
    "# **3. Estructuras de control y colecciones**\n",
    "## **Estructuras condicionales**\n",
    "Las sentencias if y else funcionan como en la mayoría de los lenguajes, ejecutando bloques de código basados en una condición booleana. C# también soporta la sentencia switch, la cual es más estricta que en otros lenguajes; requiere que cada caso termine explícitamente con break para evitar la \"caída\" (fall-through) al siguiente caso. Las versiones modernas de C# han ampliado las capacidades de switch con el switch expression o pattern matching, permitiendo evaluar tipos y propiedades de objetos, no solo valores simples."
   ]
  },
  {
   "cell_type": "code",
   "execution_count": null,
   "id": "5323ef16",
   "metadata": {
    "vscode": {
     "languageId": "plaintext"
    }
   },
   "outputs": [],
   "source": [
    "using System;\n",
    "\n",
    "public class Condicionales\n",
    "{\n",
    "    public static void Main(string[] args)\n",
    "    {\n",
    "        int nota = 75;\n",
    "\n",
    "        if (nota >= 90)\n",
    "        {\n",
    "            Console.WriteLine(\"Aprobado con excelencia (A)\");\n",
    "        }\n",
    "        else if (nota >= 70) //se evalua si la nota esta entre 70 y 89\n",
    "        {\n",
    "            Console.WriteLine(\"Aprobado satisfactoriamente (B)\");\n",
    "        }\n",
    "        else if (nota >= 60) //se evalua si la nota esta entre 60 y 69\n",
    "        {\n",
    "            Console.WriteLine(\"Aprobado minimo (C)\");\n",
    "        }\n",
    "        else //si ninguna de las condiciones anteriores fue verdadera\n",
    "        {\n",
    "            Console.WriteLine(\"Reprobado (F)\");\n",
    "        }\n",
    "    }\n",
    "}\n",
    "//salida: Aprobado satisfactoriamente (B)"
   ]
  },
  {
   "cell_type": "markdown",
   "id": "f9f325c7",
   "metadata": {},
   "source": [
    "## **Bucles (loops)**\n",
    "C# proporciona los bucles estándar: \n",
    "- **for** (para un número predefinido de iteraciones)\n",
    "- **while** (mientras una condición sea verdadera)\n",
    "- **do-while** (que garantiza la ejecución al menos una vez). \n",
    "\n",
    "El bucle más común para iterar sobre colecciones es el **foreach**, que simplifica la lectura y recorrido de todos los elementos de un array o lista sin la necesidad de gestionar índices manualmente."
   ]
  },
  {
   "cell_type": "code",
   "execution_count": null,
   "id": "03ee5859",
   "metadata": {
    "vscode": {
     "languageId": "plaintext"
    }
   },
   "outputs": [],
   "source": [
    "using System;\n",
    "\n",
    "public class BucleFor\n",
    "{\n",
    "    public static void Main(string[] args)\n",
    "    {\n",
    "        //el bucle se ejecutara 5 veces (de i=0 a i=4)\n",
    "        for (int i = 0; i < 5; i++)\n",
    "        {\n",
    "            Console.WriteLine($\"Iteracion del bucle For: {i}\");\n",
    "        }\n",
    "    }\n",
    "}\n",
    "/*\n",
    "Salida:\n",
    "Iteracion del bucle For: 0\n",
    "Iteracion del bucle For: 1\n",
    "Iteracion del bucle For: 2\n",
    "Iteracion del bucle For: 3\n",
    "Iteracion del bucle For: 4\n",
    "*/"
   ]
  },
  {
   "cell_type": "code",
   "execution_count": null,
   "id": "5547cb7b",
   "metadata": {
    "vscode": {
     "languageId": "plaintext"
    }
   },
   "outputs": [],
   "source": [
    "using System;\n",
    "\n",
    "public class BucleWhile\n",
    "{\n",
    "    public static void Main(string[] args)\n",
    "    {\n",
    "        int contador = 3;\n",
    "\n",
    "        while (contador > 0) //el bucle continua mientras contador sea mayor que 0\n",
    "        {\n",
    "            Console.WriteLine($\"Cuenta regresiva: {contador}\");\n",
    "            contador--; //es fundamental actualizar la variable de control (decremento)\n",
    "        }\n",
    "        Console.WriteLine(\"¡Lanzamiento!\");\n",
    "    }\n",
    "}\n",
    "/*\n",
    "Salida:\n",
    "Cuenta regresiva: 3\n",
    "Cuenta regresiva: 2\n",
    "Cuenta regresiva: 1\n",
    "¡Lanzamiento!\n",
    "*/"
   ]
  },
  {
   "cell_type": "markdown",
   "id": "36224d37",
   "metadata": {},
   "source": [
    "## **Coleciiones (arrays y listas)**\n",
    "- **Arrays:** Son colecciones de tamaño fijo que almacenan elementos del mismo tipo y se acceden mediante un índice numérico. Una vez que se declara un array, su tamaño no se puede cambiar.\n",
    "\n",
    "- **Listas (List<T>):** Son la colección más utilizada debido a su tamaño dinámico. Son parte del namespace System.Collections.Generic y permiten agregar o quitar elementos después de su creación. Son el equivalente flexible de los arrays y se declaran usando generics (por ejemplo, List<string>)."
   ]
  },
  {
   "cell_type": "code",
   "execution_count": null,
   "id": "83f8e1ec",
   "metadata": {
    "vscode": {
     "languageId": "plaintext"
    }
   },
   "outputs": [],
   "source": [
    "//definicion de una Lista (coleccion dinamica)\n",
    "List<string> colores = new List<string> { \"rojo\", \"verde\", \"azul\" };\n",
    "\n",
    "//bucle foreach para iterar sobre la lista\n",
    "foreach (var color in colores)\n",
    "{\n",
    "    //escribe la salida\n",
    "    Console.WriteLine($\"El color es: {color}\"); \n",
    "}\n",
    "\n",
    "//ejemplo de un array (Coleccion estatica)\n",
    "int[] numeros = new int[3] { 1, 2, 3 };"
   ]
  },
  {
   "cell_type": "markdown",
   "id": "6c061a1e",
   "metadata": {},
   "source": [
    "# **4. Programación Orientada a Objetos (POO)**\n",
    "## **Clases y objetos**\n",
    "C# es fundamentalmente un lenguaje orientado a objetos. Una Clase es la plantilla que define las Propiedades (los datos, similares a variables) y los Métodos (el comportamiento, similares a funciones) de un objeto. Un Objeto es una instancia concreta de esa clase, creada usando la palabra clave new. El Encapsulamiento es un principio central de POO en C#, gestionado por los Modificadores de Acceso (public, private, protected), que controlan la visibilidad de los miembros de la clase. Es común usar propiedades con accessors (get y set) para controlar cómo se accede y se modifica el estado interno del objeto, incluso si el campo subyacente es privado."
   ]
  },
  {
   "cell_type": "markdown",
   "id": "104bdb73",
   "metadata": {},
   "source": [
    "## **Herencia y Polimorfismo**\n",
    "- **Herencia:** Permite que una clase (clase derivada o subclase) herede propiedades y métodos de otra clase (clase base o superclase), promoviendo la reutilización de código. En C#, una clase solo puede heredar de una única clase base.\n",
    "\n",
    "- **Polimorfismo:** Significa \"muchas formas\". Permite tratar objetos de diferentes clases de manera uniforme si comparten una interfaz o herencia común. Esto se implementa en C# usando los métodos virtual (en la clase base) y override (en la clase derivada), permitiendo a la subclase proporcionar su propia implementación de un método heredado."
   ]
  },
  {
   "cell_type": "code",
   "execution_count": null,
   "id": "30b37306",
   "metadata": {
    "vscode": {
     "languageId": "plaintext"
    }
   },
   "outputs": [],
   "source": [
    "public class Perro \n",
    "{\n",
    "    //propiedad (convencion de C# para acceso seguro)\n",
    "    public string Nombre { get; set; }\n",
    "\n",
    "    //constructor: se ejecuta al crear el objeto\n",
    "    public Perro(string nombreInicial)\n",
    "    {\n",
    "        this.Nombre = nombreInicial;\n",
    "    }\n",
    "\n",
    "    //metodo\n",
    "    public virtual void EmitirSonido() \n",
    "    {\n",
    "        Console.WriteLine(\"Guau!\");\n",
    "    }\n",
    "}\n",
    "\n",
    "//creacion e interaccion con el objeto\n",
    "var miPerro = new Perro(\"Max\");\n",
    "Console.WriteLine($\"El nombre del perro es: {miPerro.Nombre}\");\n",
    "miPerro.EmitirSonido();"
   ]
  },
  {
   "cell_type": "markdown",
   "id": "1f2f901b",
   "metadata": {},
   "source": [
    "# **5. Conceptos avanzados y funcionalidades clave**\n",
    "## **Interfaces y abstraccion**\n",
    "\n",
    "Una Interfaz es un contrato que especifica un conjunto de métodos, propiedades y eventos que una clase debe implementar. Las interfaces solo definen qué hacer, pero no cómo hacerlo. Una clase puede implementar múltiples interfaces, lo que permite el polimorfismo entre tipos no relacionados por herencia. Este es un principio clave de la Abstracción, ya que permite al desarrollador interactuar con un objeto basándose únicamente en el comportamiento definido por la interfaz, sin conocer los detalles de su implementación interna.\n",
    "\n",
    "## **LINQ (Language Integrated Query)**\n",
    "LINQ es una de las características más potentes de C#. Es un conjunto de extensiones de lenguaje que permite escribir consultas directamente en código C# para recuperar datos de diversas fuentes (bases de datos SQL, colecciones de objetos, archivos XML, etc.) de manera uniforme y con tipado fuerte. LINQ transforma las consultas de datos en construcciones familiares, usando una sintaxis similar a SQL, y opera principalmente sobre colecciones de objetos.\n",
    "\n",
    "## **Manejo de Excepciones**\n",
    "Al igual que otros lenguajes modernos, C# utiliza bloques try-catch-finally para manejar errores inesperados (Excepciones). El código propenso a errores se coloca en el bloque try. Si se lanza una excepción, el flujo salta al bloque catch, donde se puede manejar el error. El bloque finally es opcional, pero crucial, ya que el código dentro de él siempre se ejecuta, sin importar si el bloque try finalizó con éxito o lanzó una excepción (ideal para liberar recursos, como cerrar conexiones a bases de datos)."
   ]
  },
  {
   "cell_type": "code",
   "execution_count": null,
   "id": "96137071",
   "metadata": {
    "vscode": {
     "languageId": "plaintext"
    }
   },
   "outputs": [],
   "source": [
    "try\n",
    "{\n",
    "    int dividendo = 10;\n",
    "    int divisor = 0;\n",
    "    //esto lanzara una excepcion DivideByZeroException\n",
    "    int resultado = dividendo / divisor; \n",
    "}\n",
    "catch (DivideByZeroException ex)\n",
    "{\n",
    "    //el bloque catch especifico captura el tipo de error\n",
    "    Console.WriteLine(\"Error: No se puede dividir por cero.\");\n",
    "}\n",
    "catch (Exception ex)\n",
    "{\n",
    "    //el bloque catch generico captura cualquier otro error\n",
    "    Console.WriteLine($\"Ocurrió un error inesperado: {ex.Message}\");\n",
    "}\n",
    "finally \n",
    "{\n",
    "    //este codigo se ejecuta siempre\n",
    "    Console.WriteLine(\"Proceso de division terminado\");\n",
    "}"
   ]
  }
 ],
 "metadata": {
  "language_info": {
   "name": "python"
  }
 },
 "nbformat": 4,
 "nbformat_minor": 5
}
