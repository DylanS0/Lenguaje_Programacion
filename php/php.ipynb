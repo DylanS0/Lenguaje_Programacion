{
 "cells": [
  {
   "cell_type": "markdown",
   "id": "f2d30448",
   "metadata": {},
   "source": [
    "#  ***DOCUMENTACIÓN DE PHP***\n",
    "### Esta documentación está diseñada para ofrecer una comprensión exhaustiva de los conceptos clave de php, su funcionalidad y su papel en el desarrollo web moderno.\n",
    "## ***Dylan Sosa***\n",
    "## ***C.I. 30640501***\n",
    "-------------------------------------"
   ]
  },
  {
   "cell_type": "markdown",
   "id": "e112ebe1",
   "metadata": {},
   "source": [
    "# ***1. Fundamentos y conceptos basicos***\n",
    "\n",
    "## **Que es php:**\n",
    "PHP (Hypertext Preprocessor) es un lenguaje de programación de código abierto, diseñado principalmente para el desarrollo web del lado del servidor (Backend). Su objetivo es crear páginas web dinámicas e interactivas.\n",
    "\n",
    "A diferencia de los lenguajes de frontend como JavaScript, que se ejecutan en el navegador del usuario, el código PHP es procesado en el servidor web (como Apache o Nginx). Su propósito principal es tomar peticiones HTTP, procesar datos (interactuar con bases de datos, manejar sesiones, etc.) y generar la respuesta, que generalmente es código HTML dinámico. Esta capacidad de incrustarse directamente en el HTML le dio su popularidad inicial, ya que permite a los desarrolladores alternar fácilmente entre código de marcado estático y lógica dinámica.\n",
    "\n",
    "- **Lado del Servidor:** El código PHP se ejecuta en el servidor web (como Apache o Nginx) y el resultado (generalmente HTML) se envía al navegador del usuario.\n",
    "\n",
    "- **Integración Sencilla:** PHP está diseñado para ser incrustado directamente en código HTML"
   ]
  },
  {
   "cell_type": "markdown",
   "id": "cd133464",
   "metadata": {},
   "source": [
    "## **Sintaxis basica y ejecucion del codigo:**\n",
    "El código PHP siempre debe estar encerrado entre etiquetas especiales para que el servidor lo reconozca.\n",
    "Por ejemplo: \n",
    "- **Etiquetas PHP:** Las etiquetas de apertura \"< ?php y las etiquetas de cierre ?>\". Estas etiquetas le indican al servidor web que el contenido dentro de ellas debe ser pasado al motor de PHP para su procesamiento.\n",
    "- **Instrucción:** Cada instrucción o sentencia de código debe finalizar obligatoriamente con un punto y coma (;), lo que actúa como un delimitador que permite al motor de PHP saber dónde termina una instrucción y comienza la siguiente.\n",
    "- **Comentarios:** Para añadir notas explicativas que el motor de PHP debe ignorar, se utilizan los comentarios, que pueden ser de una sola línea (//) o de bloque (/* ... */). El comando fundamental para la salida de texto es echo, que envía la información resultante al buffer de salida del servidor.\n",
    "\n",
    " \n"
   ]
  },
  {
   "cell_type": "code",
   "execution_count": null,
   "id": "d6d1ac71",
   "metadata": {
    "vscode": {
     "languageId": "plaintext"
    }
   },
   "outputs": [],
   "source": [
    "<?php\n",
    "//esto es un comentario de linea\n",
    "echo \"¡hola, mundo desde php!\"; // echo: se usa para imprimir texto\n",
    "/*\n",
    "esto es\n",
    "un comentario\n",
    "multilinea\n",
    "*/\n",
    "?>"
   ]
  },
  {
   "cell_type": "markdown",
   "id": "1a82a11f",
   "metadata": {},
   "source": [
    "## **Variables y tipos de datos:**\n",
    "En PHP, las variables son contenedores utilizados para almacenar información de manera temporal y son cruciales para el flujo de datos. Una característica distintiva de PHP es que todas las variables deben comenzar con el símbolo del dólar ($), seguido de un nombre que debe ser alfanumérico y sensible a mayúsculas y minúsculas. \n",
    "\n",
    "PHP es un lenguaje de tipado débil y dinámico, lo que significa que no se requiere declarar el tipo de dato de una variable (por ejemplo, int o string) antes de usarla, sino que el tipo se determina automáticamente en tiempo de ejecución basándose en el valor que se le asigna.\n",
    "\n",
    "Los tipos de datos escalares representan un único valor. Los tipos fundamentales incluyen:\n",
    "\n",
    "- **Integer (Entero):** Utilizado para números sin componentes fraccionarios, como $contador = 42.\n",
    "\n",
    "- **Float (Punto Flotante):** Utilizado para números que contienen una parte decimal o que se representan en notación científica, como $pi = 3.14159.\n",
    "\n",
    "- **String (Cadena):** Representa secuencias de caracteres y puede delimitarse con comillas simples (') o dobles (\"). Las comillas dobles permiten la interpolación de variables (incluir variables directamente en la cadena), mientras que las simples no. Por ejemplo, echo \"Mi nombre es $nombre\"; funcionaría con comillas dobles.\n",
    "\n",
    "- **Boolean (Booleano):** Representa un valor de verdad, que puede ser true (verdadero) o false (falso). Son fundamentales para el control de flujo y la toma de decisiones."
   ]
  },
  {
   "cell_type": "code",
   "execution_count": null,
   "id": "2892b66f",
   "metadata": {
    "vscode": {
     "languageId": "plaintext"
    }
   },
   "outputs": [],
   "source": [
    "<?php\n",
    "$entero = 10;\n",
    "$decimal = 3.1415;\n",
    "$cadena = \"php es genial\";\n",
    "$booleano = false;\n",
    "\n",
    "echo \"Entero: \" . $entero . \"\\n\";\n",
    "echo \"Decimal: \" . $decimal . \"\\n\";\n",
    "echo \"Cadena: \" . $cadena;\n",
    "?>\n",
    "// \".\" se usa para concatenar cadenas"
   ]
  },
  {
   "cell_type": "markdown",
   "id": "8f710f71",
   "metadata": {},
   "source": [
    "# **Estructuras de datos y control de flujo:**\n",
    "## **Arreglos (Arrays)**\n",
    "Los arreglos (Arrays) son el tipo de dato compuesto más importante en PHP. Un arreglo es una estructura de mapa ordenado que se utiliza para almacenar múltiples valores bajo un único nombre de variable. A diferencia de otros lenguajes, los arreglos en PHP son extremadamente flexibles y sirven para dos propósitos principales:\n",
    "\n",
    "- **Arreglos Indexados:** Utilizan índices numéricos secuenciales (empezando por 0) para acceder a los elementos, por ejemplo, $frutas[0].\n",
    "\n",
    "- **Arreglos Asociativos:** Utilizan cadenas como claves (en lugar de números) para asociar un nombre significativo a cada valor, lo que mejora la legibilidad. Por ejemplo, $usuario['email'] = 'john@example.com'."
   ]
  },
  {
   "cell_type": "code",
   "execution_count": null,
   "id": "bffb7e50",
   "metadata": {
    "vscode": {
     "languageId": "plaintext"
    }
   },
   "outputs": [],
   "source": [
    "//arreglos indexados\n",
    "<?php\n",
    "$frutas = [\"manzana\", \"banana\", \"cereza\"];\n",
    "echo $frutas[0]; // salida: manzana\n",
    "?>"
   ]
  },
  {
   "cell_type": "code",
   "execution_count": null,
   "id": "0d3380bf",
   "metadata": {
    "vscode": {
     "languageId": "plaintext"
    }
   },
   "outputs": [],
   "source": [
    "//arreglos asociativos clave-valor\n",
    "<?php\n",
    "$usuario = [\n",
    "    \"nombre\" => \"alice\",\n",
    "    \"email\" => \"alice@mail.com\",\n",
    "    \"edad\" => 25\n",
    "];\n",
    "echo \"Email de Alice: \" . $usuario[\"email\"];\n",
    "?>"
   ]
  },
  {
   "cell_type": "markdown",
   "id": "06e1ede7",
   "metadata": {},
   "source": [
    "# 3. Control de flujo y estructuras repetitivas:\n",
    "## Estructuras condicionales\n",
    "Las estructuras condicionales son la base de la toma de decisiones en cualquier programa. La sentencia if evalúa una condición booleana; si la condición es true, el bloque de código asociado se ejecuta. Opcionalmente, se puede añadir una cláusula else para especificar un bloque de código alternativo que se ejecuta si la condición inicial es false. La cláusula elseif se utiliza para probar múltiples condiciones de manera secuencial. La sentencia switch ofrece una alternativa más limpia y concisa para evaluar una única expresión contra múltiples valores posibles (case)."
   ]
  },
  {
   "cell_type": "code",
   "execution_count": null,
   "id": "73ec3b9d",
   "metadata": {
    "vscode": {
     "languageId": "plaintext"
    }
   },
   "outputs": [],
   "source": [
    "<?php\n",
    "$hora = 14;\n",
    "\n",
    "if ($hora < 12) {\n",
    "    echo \"buenos dias\";\n",
    "} elseif ($hora < 18) {\n",
    "    echo \"buenas tardes\";\n",
    "} else {\n",
    "    echo \"buenas noches\";\n",
    "}\n",
    "?>"
   ]
  },
  {
   "cell_type": "markdown",
   "id": "8a797b09",
   "metadata": {},
   "source": [
    "## Bucles (loops)\n",
    "Los bucles permiten ejecutar un bloque de código repetidamente hasta que se cumpla una condición de terminación.\n",
    "\n",
    "- **El bucle for** es ideal cuando se conoce de antemano el número exacto de repeticiones (por ejemplo, iterar 10 veces).\n",
    "\n",
    "- **El bucle while** continúa ejecutándose mientras una condición especificada permanezca true, siendo útil cuando el número de iteraciones es desconocido.\n",
    "\n",
    "- **El bucle foreach** es, con diferencia, la estructura de repetición más utilizada en PHP. Está diseñado específicamente para iterar fácil y limpiamente sobre todos los elementos de un arreglo (ya sea indexado o asociativo), extrayendo el valor de cada elemento, y opcionalmente, su clave asociada"
   ]
  },
  {
   "cell_type": "code",
   "execution_count": null,
   "id": "f7752d6c",
   "metadata": {
    "vscode": {
     "languageId": "plaintext"
    }
   },
   "outputs": [],
   "source": [
    "<?php\n",
    "$colores = [\"rojo\", \"verde\", \"azul\"];\n",
    "\n",
    "foreach ($colores as $color) {\n",
    "    echo \"El color es: $color\\n\";\n",
    "}\n",
    "\n",
    "//para arreglos asociativos\n",
    "$persona = [\"name\" => \"Bob\", \"city\" => \"NY\"];\n",
    "foreach ($persona as $clave => $valor) {\n",
    "    echo \"Clave: $clave, Valor: $valor\\n\";\n",
    "}\n",
    "?>"
   ]
  },
  {
   "cell_type": "markdown",
   "id": "7fbf592e",
   "metadata": {},
   "source": [
    "# 4. Funciones y programación orientada a objetos (POO):\n",
    "## Funciones\n",
    "Una función es un bloque de código que realiza una tarea específica y puede ser invocado (llamado) repetidamente desde cualquier parte del programa. El uso de funciones promueve la reutilización de código y facilita la organización y el mantenimiento. PHP moderno (a partir de la versión 7) soporta declaraciones de tipo (Type Hinting), lo que permite a los desarrolladores especificar el tipo esperado de los argumentos de la función (float $radio) y el tipo de dato que la función debe retornar (: float), lo que mejora la seguridad del código y reduce errores."
   ]
  },
  {
   "cell_type": "code",
   "execution_count": null,
   "id": "fe78f574",
   "metadata": {
    "vscode": {
     "languageId": "plaintext"
    }
   },
   "outputs": [],
   "source": [
    "<?php\n",
    "/**\n",
    " *calcula el area de un circulo\n",
    " *@param float $radio el radio del circulo\n",
    " *@return float el area calculada\n",
    " */\n",
    "function calcularAreaCirculo(float $radio): float {\n",
    "    return M_PI * $radio * $radio;\n",
    "}\n",
    "\n",
    "$area = calcularAreaCirculo(5.0);\n",
    "echo \"area: \" . number_format($area, 2);\n",
    "?>"
   ]
  },
  {
   "cell_type": "markdown",
   "id": "75e5f9db",
   "metadata": {},
   "source": [
    "## Programación Orientada a Objetos (POO) \n",
    "La programación orientada a objetos (POO) es un paradigma de programación que utiliza el concepto de \"objetos\" para estructurar el código, agrupando datos y las funciones que operan sobre esos datos.\n",
    "\n",
    "- **Una Clase** es la plantilla o plano que define las propiedades (variables o datos) y los métodos (funciones o comportamientos) que tendrá un objeto.\n",
    "\n",
    "- **Un Objeto** es una instancia concreta de una clase; es la materialización de esa plantilla en la memoria.\n",
    "\n",
    "- **El Constructor** (__construct) es un método especial que se ejecuta automáticamente cuando se crea un nuevo objeto, permitiendo inicializar las propiedades de ese objeto.\n"
   ]
  },
  {
   "cell_type": "code",
   "execution_count": null,
   "id": "fbd16837",
   "metadata": {
    "vscode": {
     "languageId": "plaintext"
    }
   },
   "outputs": [],
   "source": [
    "<?php\n",
    "class Vehiculo {\n",
    "    //propiedad\n",
    "    public $marca;\n",
    "    \n",
    "    //metodo constructor (se llama al crear el objeto)\n",
    "    public function __construct(string $m) {\n",
    "        $this->marca = $m;\n",
    "    }\n",
    "\n",
    "    //metodo\n",
    "    public function obtenerMarca(): string {\n",
    "        return \"Marca: \" . $this->marca;\n",
    "    }\n",
    "}\n",
    "\n",
    "//creacion de un objeto (instanciacion)\n",
    "$coche = new Vehiculo(\"Toyota\");\n",
    "\n",
    "//acceder al metodo\n",
    "echo $coche->obtenerMarca();\n",
    "?>"
   ]
  },
  {
   "cell_type": "markdown",
   "id": "514c4892",
   "metadata": {},
   "source": [
    "## Modificadores de acceso\n",
    "Controlan la visibilidad de las propiedades y métodos.\n",
    "\n",
    "- **public:** Accesible desde cualquier lugar.\n",
    "\n",
    "- **protected:** Accesible dentro de la clase y las clases que heredan de ella.\n",
    "\n",
    "- **private:** Accesible solo dentro de la clase donde se definió."
   ]
  },
  {
   "cell_type": "markdown",
   "id": "411af8e3",
   "metadata": {},
   "source": [
    "# **5. Conceptos Avanzados**\n",
    "## Inclusión de archivos\n",
    "Es fundamental para organizar el código en módulos.\n",
    "- require:\tIncluye un archivo. Si el archivo no existe, detiene la ejecución (error fatal).\n",
    "- include:\tIncluye un archivo. Si no existe, emite una advertencia, pero continúa la ejecución.\n",
    "- _once:\t(e.g., require_once) Garantiza que el archivo solo se incluya una vez."
   ]
  },
  {
   "cell_type": "markdown",
   "id": "34c507c6",
   "metadata": {},
   "source": [
    "## **Manejo de errores y excepciones**\n",
    "El Manejo de Excepciones es un mecanismo moderno utilizado para gestionar errores que pueden ocurrir de forma inesperada pero que son recuperables (a diferencia de los errores fatales). Esto se logra mediante la estructura try...catch. El código que se considera de riesgo se coloca dentro del bloque try. Si se produce un error esperado (una excepción), el flujo de ejecución salta inmediatamente al bloque catch, donde se puede manejar el error (por ejemplo, registrarlo o mostrar un mensaje amigable al usuario) sin detener la ejecución total del programa. El manejo adecuado de excepciones es vital para construir aplicaciones robustas y seguras."
   ]
  },
  {
   "cell_type": "code",
   "execution_count": null,
   "id": "89cbd706",
   "metadata": {
    "vscode": {
     "languageId": "plaintext"
    }
   },
   "outputs": [],
   "source": [
    "<?php\n",
    "function dividir(int $num, int $den): float {\n",
    "    if ($den === 0) {\n",
    "        //lanza una excepcion (un objeto de error)\n",
    "        throw new Exception(\"Error: division por cero no permitida\");\n",
    "    }\n",
    "    return $num / $den;\n",
    "}\n",
    "\n",
    "try {\n",
    "    echo dividir(10, 2) . \"\\n\";\n",
    "    echo dividir(10, 0) . \"\\n\"; //esto lanzara la excepcion\n",
    "} catch (Exception $e) {\n",
    "    //captura el error y lo muestra amigablemente\n",
    "    echo \"¡se ha producido un error! \" . $e->getMessage();\n",
    "}\n",
    "?>"
   ]
  },
  {
   "cell_type": "markdown",
   "id": "353ab2ab",
   "metadata": {},
   "source": [
    "## Superglobales (variables predefinidas): \n",
    "Las Superglobales son un conjunto de variables predefinidas por PHP que siempre están disponibles en todos los ámbitos de ejecución de un script (incluso dentro de funciones y métodos, sin necesidad de usar global). Son arrays asociativos y contienen datos cruciales del entorno, la sesión y la interacción del usuario:\n",
    "\n",
    "- **$_GET:** Contiene los datos pasados a través de la cadena de consulta de la URL (método HTTP GET).\n",
    "\n",
    "- **$_POST:** Contiene los datos enviados desde un formulario HTML mediante el método HTTP POST (generalmente datos grandes o sensibles).\n",
    "\n",
    "- **$_SESSION:** Se utiliza para almacenar información del usuario que debe persistir entre múltiples páginas o peticiones durante una misma sesión de navegación.\n",
    "\n",
    "- **$_SERVER:** Contiene información sobre el servidor web, las cabeceras de la petición y la ruta de ejecución del script."
   ]
  },
  {
   "cell_type": "code",
   "execution_count": null,
   "id": "3142b578",
   "metadata": {
    "vscode": {
     "languageId": "plaintext"
    }
   },
   "outputs": [],
   "source": [
    "//ejemplo de uso de $_GET (simulado):\n",
    "<?php\n",
    "//simulacion: si la URL tuviera ?usuario=Pepe\n",
    "//en un entorno real, $_GET['usuario'] contendria 'Pepe'\n",
    "$usuario_url = $_GET['usuario'] ?? \"invitado\"; \n",
    "//el operador ?? (Null Coalescing Operator) evita errores si no existe la clave\n",
    "\n",
    "echo \"Bienvenido, \" . $usuario_url . \"!\";\n",
    "?>"
   ]
  },
  {
   "cell_type": "markdown",
   "id": "a053ef2e",
   "metadata": {},
   "source": [
    "# **5. Ecosistema y tendencias modernas**\n",
    "## **Gestión de Dependencias (Composer):**\n",
    "Composer es la herramienta de facto para la gestión de dependencias en el ecosistema PHP moderno. No solo instala las librerías externas que tu proyecto necesita, sino que también gestiona la creación de un autoloader (cargador automático de clases). El autoloader es un mecanismo fundamental en POO que elimina la necesidad de usar require o include para cada archivo de clase, cargando las clases automáticamente solo cuando son necesarias. Esto ha sido clave para la proliferación de frameworks y la adopción de estándares de interoperabilidad (PSRs).\n",
    "\n",
    "- **Instalación:** composer install\n",
    "\n",
    "- **Actualización:** composer update\n",
    "\n",
    "## **Frameworks (marcos de trabajo):**\n",
    "Los frameworks proporcionan una estructura organizada (generalmente MVC - Modelo, Vista, Controlador) para construir aplicaciones complejas de forma rápida y segura.\n",
    "\n",
    "- **Laravel:** El framework más popular y completo de PHP.\n",
    "\n",
    "- **Symfony:** Un framework robusto y maduro, base de muchos otros proyectos.\n",
    "\n",
    "- **CodeIgniter:** Más ligero y fácil de aprender.\n",
    "\n",
    "## **PSRs (PHP Standards Recommendations)**\n",
    "Son estándares técnicos creados por el PHP-FIG (Framework Interoperability Group) para garantizar que los componentes y el código sean compatibles y consistentes entre diferentes frameworks. Seguir los PSRs es clave para el desarrollo moderno."
   ]
  }
 ],
 "metadata": {
  "language_info": {
   "name": "python"
  }
 },
 "nbformat": 4,
 "nbformat_minor": 5
}
